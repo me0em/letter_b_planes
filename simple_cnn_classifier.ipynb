{
 "cells": [
  {
   "cell_type": "code",
   "execution_count": 21,
   "id": "9f970a1f-25c1-4049-969c-d6463194a25d",
   "metadata": {},
   "outputs": [],
   "source": [
    "import torch\n",
    "from torch import nn\n",
    "from torch.nn import functional as F\n",
    "from torch.utils.data import DataLoader\n",
    "import numpy as np\n",
    "\n",
    "from utils import (\n",
    "    build_datasets,\n",
    "    plot_grid,\n",
    "    collect_paths\n",
    ")"
   ]
  },
  {
   "cell_type": "markdown",
   "id": "cabaa6bf-ce98-4aac-9c11-1cc22a60c058",
   "metadata": {},
   "source": [
    "#### Build datasets\n",
    "---"
   ]
  },
  {
   "cell_type": "code",
   "execution_count": 2,
   "id": "049eb12f-eed5-4dca-a07a-22e042e5cdcc",
   "metadata": {},
   "outputs": [],
   "source": [
    "labeled_dataset = build_datasets(\n",
    "    csv_path=\"../train\",\n",
    "    images_path=\"../avia-train/\"\n",
    ")\n",
    "\n",
    "train_size = int(0.8 * len(labeled_dataset))\n",
    "test_size = len(labeled_dataset) - train_size\n",
    "\n",
    "train_dataset, test_dataset = torch.utils.data.random_split(\n",
    "    labeled_dataset, [train_size, test_size]\n",
    ")"
   ]
  },
  {
   "cell_type": "code",
   "execution_count": 12,
   "id": "ab7a39f3-9f9c-4537-a40d-91e625a7182b",
   "metadata": {},
   "outputs": [],
   "source": [
    "train = DataLoader(train_dataset, batch_size=100, shuffle=True)\n",
    "test  = DataLoader(test_dataset, batch_size=100, shuffle=True)"
   ]
  },
  {
   "cell_type": "markdown",
   "id": "095f4777-e14a-4562-8254-1b3bba3a5c57",
   "metadata": {},
   "source": [
    "#### Define the model\n",
    "---"
   ]
  },
  {
   "cell_type": "code",
   "execution_count": 98,
   "id": "5936fa09-3f3e-4256-b0d2-3d66c122aa59",
   "metadata": {},
   "outputs": [],
   "source": [
    "identity = torch.tensor([[\n",
    "    [0, 0, 0],\n",
    "    [0, 1, 0],\n",
    "    [0, 0, 0]\n",
    "]])\n",
    "\n",
    "edge_detection_easy = torch.tensor([[\n",
    "    [1, 0, -1],\n",
    "    [0, 0, 0],\n",
    "    [-1, 0, 1]\n",
    "]])\n",
    "\n",
    "edge_detection_hard = torch.tensor([[\n",
    "    [0, -1, 0],\n",
    "    [-1, 4, -1],\n",
    "    [0, -1, 0]\n",
    "]])\n",
    "\n",
    "sharpen = torch.tensor([[\n",
    "    [0, -1, 0],\n",
    "    [-1, 5, -1],\n",
    "    [0, -1, 0]\n",
    "]])\n",
    "\n",
    "gaussian = torch.tensor([[\n",
    "    [1.0, 2, 1],\n",
    "    [2, 4, 2],\n",
    "    [1, 2, 1]\n",
    "]]) / 16.0\n",
    "\n",
    "class KernelStacker:\n",
    "    @staticmethod\n",
    "    def channel_stack(mtrx):\n",
    "        return torch.stack([mtrx, mtrx, mtrx], axis=1)\n",
    "    \n",
    "    def __call__(self, *matrices):\n",
    "        _3D_tensors = tuple(map(self.channel_stack, matrices))\n",
    "        \n",
    "        return torch.stack(_3D_tensors, axis=1).squeeze(0)"
   ]
  },
  {
   "cell_type": "code",
   "execution_count": 97,
   "id": "79d78f89-cbea-4300-94c3-c2996adb8d0f",
   "metadata": {},
   "outputs": [
    {
     "data": {
      "text/plain": [
       "torch.Size([2, 3, 3, 3])"
      ]
     },
     "execution_count": 97,
     "metadata": {},
     "output_type": "execute_result"
    }
   ],
   "source": [
    "KernelStacker()(identity, gaussian).shape"
   ]
  },
  {
   "cell_type": "code",
   "execution_count": 82,
   "id": "45d6979d-a194-4a86-91d0-a32027d46896",
   "metadata": {},
   "outputs": [],
   "source": [
    "class CNNClassifier(nn.Module):\n",
    "    def __init__(self):\n",
    "        super().__init__()\n",
    "        self.conv1 = nn.Conv2d(3, 3, kernel_size=3)\n",
    "        self.conv1.weight.data = tmp.to(torch.float32)\n",
    "        \n",
    "        self.conv2 = nn.Conv2d(3, 8, kernel_size=3)\n",
    "        self.conv3 = nn.Conv2d(8, 16, kernel_size=3)\n",
    "        self.conv4 = nn.Conv2d(16, 32, kernel_size=3)\n",
    "        self.max_pool = nn.MaxPool2d(2)\n",
    "        self.flatten = nn.Flatten()\n",
    "        self.linear_1 = nn.Linear(32, 16)\n",
    "        self.linear_2 = nn.Linear(16, 1)\n",
    "        \n",
    "    def conv(self, x):\n",
    "        with torch.no_grad():\n",
    "            x = self.conv1(x)\n",
    "        x = self.conv2(x)\n",
    "        x = self.max_pool(x)\n",
    "        x = F.leaky_relu(x)\n",
    "        x = self.conv3(x)\n",
    "        x = self.max_pool(x)\n",
    "        x = F.leaky_relu(x)\n",
    "        x = self.conv4(x)\n",
    "        x = self.flatten(x)\n",
    "        \n",
    "        return x\n",
    "        \n",
    "    def ffnn(self, x):\n",
    "        x = self.linear_1(x)\n",
    "        x = torch.relu(x)\n",
    "        x = self.linear_2(x)\n",
    "        x = torch.sigmoid(x)\n",
    "        \n",
    "        return x\n",
    "    \n",
    "    def forward(self, x):\n",
    "        x = self.conv(x)\n",
    "        x = self.ffnn(x)\n",
    "        \n",
    "        return x\n",
    "    \n",
    "    def predict(self, x):\n",
    "        with torch.no_grad():\n",
    "            return self.forward(x)\n",
    "        \n",
    "    class KernelStacker:\n",
    "        @staticmethod\n",
    "        def channel_stack(mtrx):\n",
    "            return torch.stack([mtrx, mtrx, mtrx], axis=1)\n",
    "\n",
    "        def __call__(self, *matrices):\n",
    "            _3D_tensors = tuple(map(self.channel_stack, matrices))\n",
    "\n",
    "            return torch.stack(_3D_tensors, axis=1).squeeze(0)"
   ]
  },
  {
   "cell_type": "code",
   "execution_count": 83,
   "id": "3d1431c8-9eac-438d-b9a9-d6ff95b07450",
   "metadata": {},
   "outputs": [],
   "source": [
    "model = CNNClassifier()\n",
    "model = model.cuda()\n",
    "\n",
    "distance =  nn.BCELoss()\n",
    "optimizer = torch.optim.Adam(model.parameters(), lr=1e-3)"
   ]
  },
  {
   "cell_type": "code",
   "execution_count": 84,
   "id": "60f32490-970e-4184-a685-7ec64ef3f4da",
   "metadata": {},
   "outputs": [
    {
     "name": "stdout",
     "output_type": "stream",
     "text": [
      "Trainable parameters amount: 6 661\n"
     ]
    }
   ],
   "source": [
    "model_parameters = filter(lambda p: p.requires_grad, model.parameters())\n",
    "params = sum([np.prod(p.size()) for p in model_parameters])\n",
    "\n",
    "print(\"Trainable parameters amount: {:n}\".format(params))"
   ]
  },
  {
   "cell_type": "code",
   "execution_count": 85,
   "id": "70728c37-b98a-41f9-bc97-847b6776fe96",
   "metadata": {},
   "outputs": [],
   "source": [
    "torch.cuda.empty_cache()\n",
    "\n",
    "num_epochs = 10"
   ]
  },
  {
   "cell_type": "code",
   "execution_count": 86,
   "id": "24ab09b5-6507-468e-91d1-263b823d204c",
   "metadata": {},
   "outputs": [
    {
     "name": "stdout",
     "output_type": "stream",
     "text": [
      "epoch [1/10], loss: 0.55603\n",
      "epoch [2/10], loss: 0.41462\n",
      "epoch [3/10], loss: 0.36621\n",
      "epoch [4/10], loss: 0.34217\n",
      "epoch [5/10], loss: 0.32511\n",
      "epoch [6/10], loss: 0.31303\n",
      "epoch [7/10], loss: 0.30449\n",
      "epoch [8/10], loss: 0.29515\n",
      "epoch [9/10], loss: 0.28289\n",
      "epoch [10/10], loss: 0.27645\n",
      "Wall time: 1min 42s\n"
     ]
    }
   ],
   "source": [
    "%%time\n",
    "for epoch in range(num_epochs):\n",
    "    loss_accumulator = []\n",
    "    \n",
    "    for ind, (x, y) in enumerate(train):\n",
    "        x = x.cuda()\n",
    "        x = x.to(torch.float32)\n",
    "\n",
    "        y = y.cuda()\n",
    "        y = y.to(torch.float32)\n",
    "        y = y.unsqueeze(1)\n",
    "\n",
    "        y_hat = model(x)\n",
    "        optimizer.zero_grad()\n",
    "\n",
    "        loss = distance(y_hat, y)\n",
    "        diff = loss.item()\n",
    "\n",
    "        loss.backward()\n",
    "        optimizer.step()\n",
    "        loss_accumulator.append(diff)\n",
    "               \n",
    "    print('epoch [{}/{}], loss: {:.5f}'.format(epoch+1, num_epochs, np.mean(loss_accumulator)))"
   ]
  },
  {
   "cell_type": "markdown",
   "id": "fabea1ff-d7f0-4650-bc9d-2c54831f1f0c",
   "metadata": {},
   "source": [
    "#### Checks the accuracy [TODO:] and other metrics\n",
    "---"
   ]
  },
  {
   "cell_type": "code",
   "execution_count": 87,
   "id": "626bca24-ea12-4ab6-be50-5f1c3ae61fb3",
   "metadata": {},
   "outputs": [],
   "source": [
    "correct = 0\n",
    "\n",
    "for x, y in test:\n",
    "    x = x.cuda()\n",
    "    x = x.to(torch.float32)\n",
    "    y = y.cuda()\n",
    "    y = y.to(torch.float32)\n",
    "    y = y.unsqueeze(1)\n",
    "\n",
    "    y_hat = model.predict(x)\n",
    "    outputs = (y_hat>0.5).to(torch.float32)\n",
    "    correct += (outputs == y).float().sum()"
   ]
  },
  {
   "cell_type": "code",
   "execution_count": 88,
   "id": "d5b97aa5-98bf-49da-bf28-65a997bf5fbc",
   "metadata": {},
   "outputs": [
    {
     "name": "stdout",
     "output_type": "stream",
     "text": [
      "Accuracy: 0.8495817184448242\n"
     ]
    }
   ],
   "source": [
    "print(f\"Accuracy: {correct / len(test_dataset)}\")"
   ]
  },
  {
   "cell_type": "code",
   "execution_count": 80,
   "id": "4360a402-06f8-44a3-b4b9-48ead1bf8ec4",
   "metadata": {},
   "outputs": [
    {
     "name": "stdout",
     "output_type": "stream",
     "text": [
      "Accuracy: 0.8653475046157837\n"
     ]
    }
   ],
   "source": [
    "print(f\"Accuracy: {correct / len(test_dataset)}\")"
   ]
  },
  {
   "cell_type": "markdown",
   "id": "b76102d4-a799-42dc-aa14-b53af652a9ca",
   "metadata": {},
   "source": [
    "#### Plot some results [TODO]\n",
    "---"
   ]
  },
  {
   "cell_type": "code",
   "execution_count": null,
   "id": "4bbae5b9-a5e7-463d-94a8-5fca3dbb7adf",
   "metadata": {},
   "outputs": [],
   "source": [
    "plot_grid(\n",
    "    planes = [train_dataset[i] for i in range(9)]\n",
    ")"
   ]
  }
 ],
 "metadata": {
  "kernelspec": {
   "display_name": "Python 3",
   "language": "python",
   "name": "python3"
  },
  "language_info": {
   "codemirror_mode": {
    "name": "ipython",
    "version": 3
   },
   "file_extension": ".py",
   "mimetype": "text/x-python",
   "name": "python",
   "nbconvert_exporter": "python",
   "pygments_lexer": "ipython3",
   "version": "3.9.5"
  }
 },
 "nbformat": 4,
 "nbformat_minor": 5
}
