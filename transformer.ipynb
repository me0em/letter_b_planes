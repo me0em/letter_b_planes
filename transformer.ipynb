{
 "cells": [
  {
   "cell_type": "code",
   "execution_count": 1,
   "id": "b5d5df28-6f05-4aba-a6f6-8cf703cf9a83",
   "metadata": {},
   "outputs": [
    {
     "data": {
      "text/plain": [
       "<torch._C.Generator at 0x25950427d30>"
      ]
     },
     "execution_count": 1,
     "metadata": {},
     "output_type": "execute_result"
    }
   ],
   "source": [
    "import torch\n",
    "from torch import nn\n",
    "import math\n",
    "import einops\n",
    "\n",
    "torch.manual_seed(42)"
   ]
  },
  {
   "cell_type": "code",
   "execution_count": 2,
   "id": "47bb0863-d818-4f67-8986-3e26b98a12b9",
   "metadata": {},
   "outputs": [],
   "source": [
    "class SelfAttention(nn.Module):\n",
    "    def __init__(self, dim_in, dim_out):\n",
    "        super().__init__()\n",
    "        \n",
    "        self.sqrt_v = math.sqrt(dim_out) \n",
    "        self.to_qkv = nn.Linear(dim_in, 3*dim_out)\n",
    "        \n",
    "    def forward(self, x):\n",
    "        qkv = self.to_qkv(x)\n",
    "        q, k, v = einops.rearrange(qkv, \"h (k w) -> k h w\", k=3)\n",
    "\n",
    "        return torch.sigmoid(q @ k.T) @ v / self.sqrt_v"
   ]
  },
  {
   "cell_type": "code",
   "execution_count": 3,
   "id": "ea48d549-79a5-45e2-a7de-b761a28e81d6",
   "metadata": {},
   "outputs": [],
   "source": [
    "class MultiHeadAttention(nn.Module):\n",
    "    def __init__(self, dim_in, dim_out, heads_num):\n",
    "        super().__init__()\n",
    "        \n",
    "        self.heads_num = heads_num\n",
    "        self.heads = [SelfAttention(dim_in, dim_out) for _ in range(heads_num)]\n",
    "        self.epic_w = nn.Linear(heads_num * dim_out, dim_in)\n",
    "        \n",
    "    def forward(self, x):\n",
    "        outs = [head(x) for head in self.heads]\n",
    "        outs = einops.rearrange(outs, \"head h w -> h (head w)\", head=self.heads_num)\n",
    "        x = self.epic_w(outs)\n",
    "        \n",
    "        return x"
   ]
  },
  {
   "cell_type": "code",
   "execution_count": 4,
   "id": "6bb80dfe-4ef5-434b-af96-1b9f721080ac",
   "metadata": {},
   "outputs": [
    {
     "data": {
      "text/plain": [
       "tensor([[0.8823, 0.9150, 0.3829, 0.9593, 0.3904, 0.6009],\n",
       "        [0.2566, 0.7936, 0.9408, 0.1332, 0.9346, 0.5936],\n",
       "        [0.8694, 0.5677, 0.7411, 0.4294, 0.8854, 0.5739]])"
      ]
     },
     "execution_count": 4,
     "metadata": {},
     "output_type": "execute_result"
    }
   ],
   "source": [
    "x = torch.rand([3, 6])\n",
    "x"
   ]
  },
  {
   "cell_type": "code",
   "execution_count": 5,
   "id": "c03db9a7-62e1-4ef7-a4f7-f5184952387d",
   "metadata": {},
   "outputs": [],
   "source": [
    "mha = MultiHeadAttention(6, 4, 2)"
   ]
  },
  {
   "cell_type": "code",
   "execution_count": 6,
   "id": "71a581ae-c0cf-40be-b4b9-865137e1b82d",
   "metadata": {},
   "outputs": [],
   "source": [
    "a = mha(x)"
   ]
  },
  {
   "cell_type": "code",
   "execution_count": 7,
   "id": "7e94d0ba-087a-4689-8b5d-d14e103822ac",
   "metadata": {},
   "outputs": [
    {
     "data": {
      "text/plain": [
       "tensor([[ 0.2661,  0.1551, -0.2437, -0.3507, -0.1366, -0.3805],\n",
       "        [ 0.2552,  0.1484, -0.2105, -0.3468, -0.1555, -0.3830],\n",
       "        [ 0.2628,  0.1542, -0.2322, -0.3542, -0.1401, -0.3871]],\n",
       "       grad_fn=<AddmmBackward>)"
      ]
     },
     "execution_count": 7,
     "metadata": {},
     "output_type": "execute_result"
    }
   ],
   "source": [
    "a"
   ]
  }
 ],
 "metadata": {
  "kernelspec": {
   "display_name": "Python 3",
   "language": "python",
   "name": "python3"
  },
  "language_info": {
   "codemirror_mode": {
    "name": "ipython",
    "version": 3
   },
   "file_extension": ".py",
   "mimetype": "text/x-python",
   "name": "python",
   "nbconvert_exporter": "python",
   "pygments_lexer": "ipython3",
   "version": "3.9.5"
  }
 },
 "nbformat": 4,
 "nbformat_minor": 5
}
