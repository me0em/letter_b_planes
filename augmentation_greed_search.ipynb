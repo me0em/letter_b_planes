{
 "cells": [
  {
   "cell_type": "markdown",
   "id": "70ee7c4f",
   "metadata": {},
   "source": [
    "# Пробуем аугментацию 💩"
   ]
  },
  {
   "cell_type": "code",
   "execution_count": 1,
   "id": "c6251076",
   "metadata": {},
   "outputs": [],
   "source": [
    "import torch\n",
    "from torch import nn\n",
    "from torch.nn import functional as F\n",
    "from torch.utils.data import DataLoader\n",
    "import torchvision\n",
    "import numpy as np\n",
    "import pandas as pd\n",
    "import pickle\n",
    "import itertools\n",
    "from datetime import datetime\n",
    "import locale\n",
    "import sys\n",
    "import os\n",
    "\n",
    "locale.setlocale(locale.LC_ALL, '')\n",
    "sys.path.insert(1, os.path.join(sys.path[0], '..'))\n",
    "\n",
    "torch.manual_seed(42)\n",
    "np.random.seed(42)"
   ]
  },
  {
   "cell_type": "markdown",
   "id": "5a75e6fe",
   "metadata": {},
   "source": [
    "#### 🐘 <i><span style=\"color: #52C594\">import local stuff</span></i>"
   ]
  },
  {
   "cell_type": "code",
   "execution_count": 2,
   "id": "d2d89360",
   "metadata": {},
   "outputs": [],
   "source": [
    "from models import CNNClassifier\n",
    "from utils import PlaneSet, build_dataset\n",
    "from utils import configurate_xy_tensors  # wrap cuda and types stuff"
   ]
  },
  {
   "cell_type": "markdown",
   "id": "3b7c5408",
   "metadata": {},
   "source": [
    "#### Wrap a training loop in fn\n",
    "---"
   ]
  },
  {
   "cell_type": "code",
   "execution_count": 3,
   "id": "8ead414f",
   "metadata": {},
   "outputs": [],
   "source": [
    "def fit(model, epoch_num, train, optimizer, distance):\n",
    "    loss_dict = {}\n",
    "    \n",
    "    for epoch in range(num_epochs):\n",
    "        loss_accumulator = []\n",
    "\n",
    "        for ind, (x, y) in enumerate(train):\n",
    "            x, y = configurate_xy_tensors(x, y)\n",
    "            y_hat = model(x)\n",
    "            optimizer.zero_grad()\n",
    "\n",
    "            loss = distance(y_hat, y)\n",
    "            diff = loss.item()\n",
    "\n",
    "            loss.backward()\n",
    "            optimizer.step()\n",
    "            loss_accumulator.append(diff)\n",
    "            \n",
    "        loss_dict[epoch] = np.mean(loss_accumulator)\n",
    "    \n",
    "    return model, loss_dict"
   ]
  },
  {
   "cell_type": "markdown",
   "id": "98531582",
   "metadata": {},
   "source": [
    "#### Wrap a testing loop in fn\n",
    "---"
   ]
  },
  {
   "cell_type": "code",
   "execution_count": 4,
   "id": "997d7445",
   "metadata": {},
   "outputs": [],
   "source": [
    "def predict(model, test):\n",
    "    correct = 0\n",
    "\n",
    "    for x, y in test:\n",
    "        x, y = configurate_xy_tensors(x, y)\n",
    "        y_hat = model.predict(x)\n",
    "        outputs = (y_hat>0.5).to(torch.float32)\n",
    "        correct += (outputs == y).float().sum()\n",
    "        \n",
    "        return correct / len(test)"
   ]
  },
  {
   "cell_type": "markdown",
   "id": "7c555829",
   "metadata": {},
   "source": [
    "#### Run one experiment as function\n",
    "---"
   ]
  },
  {
   "cell_type": "code",
   "execution_count": 5,
   "id": "3d18ed8b",
   "metadata": {},
   "outputs": [],
   "source": [
    "def run_experiment(augmentation_compose, ModelClass,\n",
    "                   distance, num_epochs, df, images_path):\n",
    "    model = ModelClass()\n",
    "    device = torch.device('cuda' if torch.cuda.is_available() else 'cpu')\n",
    "    model.to(device=device)\n",
    "    \n",
    "    optimizer = torch.optim.Adam(model.parameters(), lr=1e-3)\n",
    "    \n",
    "    msk = np.random.rand(len(df)) < 0.8\n",
    "    train_df = df[msk]\n",
    "    test_df = df[~msk]\n",
    "    \n",
    "    train_dataset = build_dataset(train_df, images_path, augmentation_compose)\n",
    "    test_dataset = build_dataset(test_df, images_path, None)\n",
    "    train = DataLoader(train_dataset, batch_size=100, shuffle=True)\n",
    "    test  = DataLoader(test_dataset, batch_size=100, shuffle=True)\n",
    "    \n",
    "    model, loss_dict = fit(model, num_epochs, train, optimizer, distance)\n",
    "    accuracy = predict(model, test)\n",
    "    \n",
    "    return {augmentation_compose: (loss_dict, accuracy)}"
   ]
  },
  {
   "cell_type": "markdown",
   "id": "89c56007-2a4d-479c-80d9-70bd0c75002c",
   "metadata": {},
   "source": [
    "#### Build combinations from aug list\n",
    "---"
   ]
  },
  {
   "cell_type": "code",
   "execution_count": 6,
   "id": "603d082e-96b0-47d2-ab16-8595f363166b",
   "metadata": {},
   "outputs": [],
   "source": [
    "aug_list = [\n",
    "    torchvision.transforms.RandomHorizontalFlip(),\n",
    "    torchvision.transforms.RandomVerticalFlip(),\n",
    "    torchvision.transforms.RandomResizedCrop(size=(20,20)),\n",
    "    torchvision.transforms.RandomRotation(degrees=(15,95)),\n",
    "    torchvision.transforms.RandomGrayscale(p=0.1),\n",
    "    torchvision.transforms.RandomInvert(p=0.4),\n",
    "    torchvision.transforms.RandomPosterize(bits=2),\n",
    "    torchvision.transforms.RandomSolarize(threshold=192.0),\n",
    "    torchvision.transforms.RandomAdjustSharpness(sharpness_factor=2),\n",
    "    torchvision.transforms.RandomAutocontrast(),\n",
    "]"
   ]
  },
  {
   "cell_type": "code",
   "execution_count": 18,
   "id": "ef6b38be-8fcd-4594-8ea0-bc9160816a3c",
   "metadata": {},
   "outputs": [
    {
     "name": "stdout",
     "output_type": "stream",
     "text": [
      "колво пар: 120\n",
      "часов: 20.53333333333333\n"
     ]
    }
   ],
   "source": [
    "epoch_num = 20\n",
    "time = (epoch_num / 10) * 308 / 3600\n",
    "combinations = list(itertools.combinations(aug_list, 3))\n",
    "\n",
    "print(\n",
    "    f\"колво пар: {len(combinations)}\\nчасов: {len(combinations) * time}\"\n",
    ")"
   ]
  },
  {
   "cell_type": "code",
   "execution_count": 8,
   "id": "b447fbca-84f8-42b5-b21e-5f601fc9d5dd",
   "metadata": {},
   "outputs": [],
   "source": [
    "combinations = [torchvision.transforms.Compose(i) for i in combinations]"
   ]
  },
  {
   "cell_type": "code",
   "execution_count": 9,
   "id": "9d957963-e10b-4c87-bb99-4e7c12556bb4",
   "metadata": {},
   "outputs": [
    {
     "data": {
      "text/plain": [
       "[Compose(\n",
       "     RandomHorizontalFlip(p=0.5)\n",
       "     RandomVerticalFlip(p=0.5)\n",
       "     RandomResizedCrop(size=(20, 20), scale=(0.08, 1.0), ratio=(0.75, 1.3333), interpolation=bilinear)\n",
       " )]"
      ]
     },
     "execution_count": 9,
     "metadata": {},
     "output_type": "execute_result"
    }
   ],
   "source": [
    "combinations[:1]"
   ]
  },
  {
   "cell_type": "markdown",
   "id": "6c04e289",
   "metadata": {},
   "source": [
    "#### Run all experiments"
   ]
  },
  {
   "cell_type": "code",
   "execution_count": 15,
   "id": "d3a067b2",
   "metadata": {
    "tags": []
   },
   "outputs": [
    {
     "name": "stdout",
     "output_type": "stream",
     "text": [
      "combination 1/120\n",
      "Wall time: 2min 34s\n"
     ]
    }
   ],
   "source": [
    "%%time\n",
    "distance =  nn.BCELoss()\n",
    "num_epochs = 5\n",
    "\n",
    "csv_path = \"../train\"\n",
    "images_path = \"../avia-train/\"\n",
    "\n",
    "with open(csv_path, \"r\") as file:\n",
    "    data = pd.read_csv(file)\n",
    "\n",
    "results = {}\n",
    "\n",
    "for ind, aug in enumerate(combinations[1:2]):\n",
    "    print(f\"combination {ind+1}/{len(combinations)}\")\n",
    "    experiment_result = run_experiment(\n",
    "        aug, CNNClassifier, distance,\n",
    "        num_epochs, data, images_path\n",
    "    )\n",
    "    \n",
    "    results.update(experiment_result)\n",
    "\n",
    "dump_name = \"../augmentations_results/\" + datetime.now().strftime(\"%H_%M_%S\")\n",
    "with open(dump_name, \"wb\") as bfile:\n",
    "    pickle.dump(results, bfile)"
   ]
  },
  {
   "cell_type": "markdown",
   "id": "6ff90b56-fc77-45cb-86fa-c965335ac545",
   "metadata": {},
   "source": [
    "# Дальше\n",
    "\n",
    "сравниваете чиселки акьюрасис\n",
    "рисуете графики лосов с подпиской легенды где какой компоуз\n",
    "\n",
    "значение лосса <> номер эпохи\n",
    "\n",
    "если успеете то по эпохам сделаете аккьюраси"
   ]
  },
  {
   "cell_type": "markdown",
   "id": "ba7c16ff-c37d-48c5-ab9c-5f0b00a88870",
   "metadata": {},
   "source": [
    "загрузите какую-нибудь фоточку PILом и захуячьте на ней шарпнесс, соларайз, контраст и тд и визуально подкорректируйте параметры если будет необходимо."
   ]
  },
  {
   "cell_type": "markdown",
   "id": "229070e1-575d-4464-9110-7102184539ce",
   "metadata": {},
   "source": [
    "<span style=\"color:red\"> исправьте ошибку почему аккьюраси больше единицы было норм </span>"
   ]
  },
  {
   "cell_type": "code",
   "execution_count": 16,
   "id": "3c4cbe51-cba8-4a58-b4b4-137e8770a430",
   "metadata": {},
   "outputs": [
    {
     "data": {
      "text/plain": [
       "{Compose(\n",
       "     RandomHorizontalFlip(p=0.5)\n",
       "     RandomVerticalFlip(p=0.5)\n",
       "     RandomRotation(degrees=[15.0, 95.0], interpolation=nearest, expand=False, fill=0)\n",
       " ): ({0: 0.49725378584861757,\n",
       "   1: 0.31887596797943113,\n",
       "   2: 0.2606424463391304,\n",
       "   3: 0.2284966432750225,\n",
       "   4: 0.2145057860761881},\n",
       "  tensor(1.4839, device='cuda:0'))}"
      ]
     },
     "execution_count": 16,
     "metadata": {},
     "output_type": "execute_result"
    }
   ],
   "source": [
    "results"
   ]
  },
  {
   "cell_type": "code",
   "execution_count": null,
   "id": "9fb4eca7-3bed-42a4-9834-307413341cd3",
   "metadata": {},
   "outputs": [],
   "source": []
  }
 ],
 "metadata": {
  "kernelspec": {
   "display_name": "Python 3",
   "language": "python",
   "name": "python3"
  },
  "language_info": {
   "codemirror_mode": {
    "name": "ipython",
    "version": 3
   },
   "file_extension": ".py",
   "mimetype": "text/x-python",
   "name": "python",
   "nbconvert_exporter": "python",
   "pygments_lexer": "ipython3",
   "version": "3.9.5"
  }
 },
 "nbformat": 4,
 "nbformat_minor": 5
}
