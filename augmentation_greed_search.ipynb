{
 "cells": [
  {
   "cell_type": "markdown",
   "id": "70ee7c4f",
   "metadata": {},
   "source": [
    "# Пробуем аугментацию 💩"
   ]
  },
  {
   "cell_type": "code",
   "execution_count": 1,
   "id": "c6251076",
   "metadata": {},
   "outputs": [],
   "source": [
    "import torch\n",
    "from torch import nn\n",
    "from torch.nn import functional as F\n",
    "from torch.utils.data import DataLoader\n",
    "import torchvision\n",
    "import numpy as np\n",
    "import pandas as pd\n",
    "import pickle\n",
    "import itertools\n",
    "from datetime import datetime\n",
    "import locale\n",
    "import sys\n",
    "import os\n",
    "\n",
    "from PIL import Image\n",
    "locale.setlocale(locale.LC_ALL, '')\n",
    "sys.path.insert(1, os.path.join(sys.path[0], '..'))\n",
    "\n",
    "torch.manual_seed(42)\n",
    "np.random.seed(42)"
   ]
  },
  {
   "cell_type": "markdown",
   "id": "5a75e6fe",
   "metadata": {},
   "source": [
    "#### 🐘 <i><span style=\"color: #52C594\">import local stuff</span></i>"
   ]
  },
  {
   "cell_type": "code",
   "execution_count": 2,
   "id": "d2d89360",
   "metadata": {},
   "outputs": [],
   "source": [
    "from models import CNNClassifier\n",
    "from utils2 import PlaneSet, build_dataset\n",
    "from utils2 import configurate_xy_tensors  # wrap cuda and types stuff"
   ]
  },
  {
   "cell_type": "markdown",
   "id": "3b7c5408",
   "metadata": {},
   "source": [
    "#### Wrap a training loop in fn\n",
    "---"
   ]
  },
  {
   "cell_type": "code",
   "execution_count": 3,
   "id": "8ead414f",
   "metadata": {},
   "outputs": [],
   "source": [
    "def fit(model, epoch_num, train, optimizer, distance, test, train_dataset):\n",
    "    loss_dict = {}\n",
    "    accuracy_dict = {}\n",
    "    loss_dict_test = {}\n",
    "    accuracy_dict_train = {}\n",
    "    \n",
    "    for epoch in range(num_epochs):\n",
    "        loss_train_accumulator = []\n",
    "        correct_test = 0\n",
    "        \n",
    "        for ind, (x, y) in enumerate(train):\n",
    "            x, y = configurate_xy_tensors(x, y)\n",
    "            y_hat = model(x)\n",
    "            optimizer.zero_grad()\n",
    "\n",
    "            loss = distance(y_hat, y)\n",
    "            diff = loss.item()\n",
    "\n",
    "            loss.backward()\n",
    "            optimizer.step()\n",
    "            loss_train_accumulator.append(diff)\n",
    "            \n",
    "        #accuracy_dict_train[epoch+1] = predict_train(model, train_dataset)   \n",
    "        loss_dict[epoch+1] = np.mean(loss_train_accumulator)\n",
    "        #accuracy and loss of test_dataset\n",
    "        correct_test, loss_test = predict(model, test, distance)\n",
    "        accuracy_dict[epoch+1] = correct_test\n",
    "        loss_dict_test[epoch+1] = loss_test \n",
    "        \n",
    "    return model, loss_dict, accuracy_dict, loss_dict_test #, #accuracy_dict_train"
   ]
  },
  {
   "cell_type": "code",
   "execution_count": 4,
   "id": "07105aea-6ec1-451e-9673-8a2eab3089cf",
   "metadata": {},
   "outputs": [],
   "source": [
    "def predict_train(model, train):\n",
    "    correct = 0\n",
    "    \n",
    "    for x, y in iter(train):\n",
    "        y = torch.tensor([y])\n",
    "        x = x.unsqueeze(0)\n",
    "        x, y = configurate_xy_tensors(x, y)\n",
    "        y_hat = model.predict(x)\n",
    "        outputs = (y_hat>0.5).to(torch.float32)\n",
    "        correct += (outputs == y).float().sum() \n",
    "        \n",
    "    return correct / (len(train) * y.shape[1])"
   ]
  },
  {
   "cell_type": "markdown",
   "id": "98531582",
   "metadata": {},
   "source": [
    "#### Wrap a testing loop in fn\n",
    "---"
   ]
  },
  {
   "cell_type": "code",
   "execution_count": 5,
   "id": "997d7445",
   "metadata": {},
   "outputs": [],
   "source": [
    "def predict(model, test, distance):\n",
    "    correct = 0\n",
    "    loss_vals = []\n",
    "    \n",
    "    for x, y in iter(test):\n",
    "        y = torch.tensor([y])\n",
    "        x = x.unsqueeze(0)\n",
    "        x, y = configurate_xy_tensors(x, y)\n",
    "        y_hat = model.predict(x)\n",
    "        loss = distance(y_hat, y).item()\n",
    "        loss_vals.append(loss)\n",
    "        \n",
    "        outputs = (y_hat>0.5).to(torch.float32)\n",
    "        correct += (outputs == y).float().sum() \n",
    "        \n",
    "    return (correct / (len(test) * y.shape[1]), np.mean(loss_vals))\n"
   ]
  },
  {
   "cell_type": "markdown",
   "id": "7c555829",
   "metadata": {},
   "source": [
    "#### Run one experiment as function\n",
    "---"
   ]
  },
  {
   "cell_type": "code",
   "execution_count": 6,
   "id": "3d18ed8b",
   "metadata": {},
   "outputs": [],
   "source": [
    "def run_experiment(augmentation_compose, ModelClass,\n",
    "                   distance, num_epochs, df, images_path):\n",
    "    model = ModelClass()\n",
    "    device = torch.device('cuda' if torch.cuda.is_available() else 'cpu')\n",
    "    model.to(device=device)\n",
    "    \n",
    "    optimizer = torch.optim.Adam(model.parameters(), lr=1e-3)\n",
    "    msk = np.random.rand(len(df)) < 0.8\n",
    "    \n",
    "    train_df = df[msk]\n",
    "    test_df = df[~msk]\n",
    "    train_dataset = build_dataset(train_df, images_path, augmentation_compose)\n",
    "    test_dataset = build_dataset(test_df, images_path, None)\n",
    "    \n",
    "    train = DataLoader(train_dataset, batch_size=100, shuffle=True)\n",
    "    test  = DataLoader(test_dataset, batch_size=100, shuffle=True)\n",
    "    model, loss_dict, accuracy_test, loss_test = fit(model, num_epochs, train, optimizer, distance, test_dataset, train_dataset)\n",
    "    return {augmentation_compose: {'loss_train': loss_dict, 'loss_test': loss_test, 'accuracy_test': accuracy_test}}"
   ]
  },
  {
   "cell_type": "markdown",
   "id": "89c56007-2a4d-479c-80d9-70bd0c75002c",
   "metadata": {},
   "source": [
    "#### Build combinations from aug list\n",
    "---"
   ]
  },
  {
   "cell_type": "code",
   "execution_count": 7,
   "id": "603d082e-96b0-47d2-ab16-8595f363166b",
   "metadata": {
    "tags": []
   },
   "outputs": [],
   "source": [
    "aug_list = [\n",
    "    torchvision.transforms.RandomHorizontalFlip(),\n",
    "    torchvision.transforms.RandomVerticalFlip(),\n",
    "    torchvision.transforms.RandomResizedCrop(size=(20,20)),\n",
    "    torchvision.transforms.RandomRotation(degrees=(15,95)),\n",
    "    torchvision.transforms.RandomGrayscale(p=0.1),\n",
    "    torchvision.transforms.RandomInvert(p=0.4),\n",
    "    torchvision.transforms.RandomSolarize(threshold=192.0),\n",
    "    torchvision.transforms.RandomAdjustSharpness(2),\n",
    "    torchvision.transforms.RandomAutocontrast(),\n",
    "]"
   ]
  },
  {
   "cell_type": "code",
   "execution_count": 8,
   "id": "b447fbca-84f8-42b5-b21e-5f601fc9d5dd",
   "metadata": {},
   "outputs": [],
   "source": [
    "all_combinations = list(itertools.combinations(aug_list, 3))\n",
    "all_combinations = [torchvision.transforms.Compose(i) for i in all_combinations]\n",
    "combinations = all_combinations[:1]"
   ]
  },
  {
   "cell_type": "markdown",
   "id": "6c04e289",
   "metadata": {},
   "source": [
    "#### Run all experiments"
   ]
  },
  {
   "cell_type": "code",
   "execution_count": 9,
   "id": "d3a067b2",
   "metadata": {
    "tags": []
   },
   "outputs": [
    {
     "name": "stdout",
     "output_type": "stream",
     "text": [
      "combination 1/1\n"
     ]
    },
    {
     "name": "stderr",
     "output_type": "stream",
     "text": [
      "D:\\anaconda\\lib\\site-packages\\torch\\nn\\functional.py:718: UserWarning: Named tensors and all their associated APIs are an experimental feature and subject to change. Please do not use them for anything important until they are released as stable. (Triggered internally at  ..\\c10/core/TensorImpl.h:1156.)\n",
      "  return torch.max_pool2d(input, kernel_size, stride, padding, dilation, ceil_mode)\n"
     ]
    },
    {
     "name": "stdout",
     "output_type": "stream",
     "text": [
      "Wall time: 27.1 s\n"
     ]
    }
   ],
   "source": [
    "%%time\n",
    "distance =  nn.BCELoss()\n",
    "num_epochs = 1\n",
    "\n",
    "csv_path = r\"C:\\Users\\isaev\\Desktop\\all_cups/train.csv\"\n",
    "images_path = r\"C:\\Users\\isaev\\Desktop\\all_cups\\avia-train/\"\n",
    "\n",
    "with open(csv_path, \"r\") as file:\n",
    "    data = pd.read_csv(file)\n",
    "\n",
    "results = {}\n",
    "\n",
    "for ind, aug in enumerate(combinations):\n",
    "    print(f\"combination {ind+1}/{len(combinations)}\")\n",
    "    experiment_result = run_experiment(\n",
    "        aug, CNNClassifier, distance,\n",
    "        num_epochs, data, images_path\n",
    "    )\n",
    "    \n",
    "    results.update(experiment_result)\n",
    "\n",
    "dump_name = \"..augmentations_results\" + datetime.now().strftime(\"%H_%M_%S\")\n",
    "with open(dump_name, \"wb\") as bfile:\n",
    "    pickle.dump(results, bfile) "
   ]
  },
  {
   "cell_type": "code",
   "execution_count": 10,
   "id": "6d5db7a7-d0d1-47fe-a2a8-2cf2806dc272",
   "metadata": {},
   "outputs": [
    {
     "data": {
      "text/plain": [
       "{Compose(\n",
       "     RandomHorizontalFlip(p=0.5)\n",
       "     RandomVerticalFlip(p=0.5)\n",
       "     RandomResizedCrop(size=(20, 20), scale=(0.08, 1.0), ratio=(0.75, 1.3333), interpolation=bilinear)\n",
       " ): {'loss_train': {1: 0.483103079369748},\n",
       "  'loss_test': {1: 0.37451652531716656},\n",
       "  'accuracy_test': {1: tensor(0.8437, device='cuda:0')}}}"
      ]
     },
     "execution_count": 10,
     "metadata": {},
     "output_type": "execute_result"
    }
   ],
   "source": [
    "results"
   ]
  },
  {
   "cell_type": "code",
   "execution_count": null,
   "id": "c758b332-db54-47c4-a90a-2a9e9e721cf2",
   "metadata": {},
   "outputs": [],
   "source": []
  }
 ],
 "metadata": {
  "kernelspec": {
   "display_name": "Python 3",
   "language": "python",
   "name": "python3"
  },
  "language_info": {
   "codemirror_mode": {
    "name": "ipython",
    "version": 3
   },
   "file_extension": ".py",
   "mimetype": "text/x-python",
   "name": "python",
   "nbconvert_exporter": "python",
   "pygments_lexer": "ipython3",
   "version": "3.8.8"
  }
 },
 "nbformat": 4,
 "nbformat_minor": 5
}
