{
 "cells": [
  {
   "cell_type": "code",
   "execution_count": 1,
   "id": "da905362-892c-4e43-9875-e87146658b3f",
   "metadata": {},
   "outputs": [],
   "source": [
    "import torch\n",
    "import pandas as pd\n",
    "import numpy as np\n",
    "from PIL import Image\n",
    "import matplotlib.pyplot as plt\n",
    "\n",
    "import os\n",
    "import fnmatch\n",
    "import locale\n",
    "import sys\n",
    "\n",
    "locale.setlocale(locale.LC_ALL, '')\n",
    "sys.path.insert(1, os.path.join(sys.path[0], '..'))"
   ]
  },
  {
   "cell_type": "markdown",
   "id": "60ba9ac4-bba6-4641-a499-e2db4522197c",
   "metadata": {},
   "source": [
    "#### Constants\n",
    "---"
   ]
  },
  {
   "cell_type": "code",
   "execution_count": 19,
   "id": "17762950-4407-4cd7-8ff7-30952287ab43",
   "metadata": {},
   "outputs": [],
   "source": [
    "images_path = \"C:/Users/celes/Documents/planes/avia-train/\""
   ]
  },
  {
   "cell_type": "markdown",
   "id": "8d053cd0-05c0-42f0-b901-d67952a4a129",
   "metadata": {},
   "source": [
    "#### Load photos\n",
    "---"
   ]
  },
  {
   "cell_type": "code",
   "execution_count": 21,
   "id": "fa08a5ab-fc11-4f24-bf4c-4153ae952ac4",
   "metadata": {},
   "outputs": [],
   "source": [
    "import glob\n",
    "glob.glob(\"C:/Users/celes/Documents/planes/avia-train/*.png\");"
   ]
  },
  {
   "cell_type": "code",
   "execution_count": 22,
   "id": "30405873-54f3-47bb-8765-d55e1f75f67f",
   "metadata": {},
   "outputs": [],
   "source": [
    "def collect_paths(parrent_path, pattern=\"*.tif\"):\n",
    "    \"\"\" Recoursively get all paths by pattern\n",
    "    and return them as list\n",
    "    \"\"\"\n",
    "    results = []\n",
    "    for base, _, files in os.walk(parrent_path):\n",
    "        goodfiles = fnmatch.filter(files, pattern)\n",
    "        results.extend(os.path.join(base, f) for f in goodfiles)\n",
    "    \n",
    "    return results"
   ]
  },
  {
   "cell_type": "code",
   "execution_count": 24,
   "id": "b48b2f62-95c9-423e-90b6-839d27cd694c",
   "metadata": {},
   "outputs": [
    {
     "name": "stdout",
     "output_type": "stream",
     "text": [
      "Amount of photos: 31080\n"
     ]
    }
   ],
   "source": [
    "paths = collect_paths(images_path, pattern=\"*.png\")\n",
    "print(f\"Amount of photos: {len(paths)}\")"
   ]
  },
  {
   "cell_type": "markdown",
   "id": "38ce08a4-91bb-48c3-ac50-f27097d7511a",
   "metadata": {},
   "source": [
    "#### Load metadata\n",
    "---"
   ]
  },
  {
   "cell_type": "code",
   "execution_count": 6,
   "id": "21116949-faeb-43fb-903e-e89625a58368",
   "metadata": {},
   "outputs": [],
   "source": [
    "with open(\"../train\", \"r\") as file:\n",
    "    data = pd.read_csv(file)"
   ]
  },
  {
   "cell_type": "code",
   "execution_count": 7,
   "id": "9f2532cf-3549-4937-8099-c79cc1147679",
   "metadata": {},
   "outputs": [
    {
     "data": {
      "text/plain": [
       "0    23181\n",
       "1     7899\n",
       "Name: sign, dtype: int64"
      ]
     },
     "execution_count": 7,
     "metadata": {},
     "output_type": "execute_result"
    }
   ],
   "source": [
    "data[\"sign\"].value_counts()"
   ]
  },
  {
   "cell_type": "markdown",
   "id": "03bb2cba-31e8-4e4a-98b3-3ae97dd5702d",
   "metadata": {},
   "source": [
    "#### Dataset\n",
    "---\n",
    "Wrap all this logic by torch dataset "
   ]
  },
  {
   "cell_type": "code",
   "execution_count": null,
   "id": "13f00f93-b67a-456f-a286-66c94b75c3e1",
   "metadata": {},
   "outputs": [],
   "source": [
    "# for x, y in dataloader:\n",
    "#     y_hat = model(x)\n",
    "#     loss_value = loss(y_hat, y)\n",
    "    \n",
    "# #     fitting\n",
    "\n",
    "# data -> Dataset -> Dataloader"
   ]
  },
  {
   "cell_type": "code",
   "execution_count": 8,
   "id": "454707c5-4133-418a-ac10-7b67a073ec6a",
   "metadata": {},
   "outputs": [],
   "source": [
    "class PlaneSet(torch.utils.data.Dataset):\n",
    "    def __init__(self, dir_path, df):\n",
    "        super().__init__()\n",
    "        self.dir_path = dir_path\n",
    "        self.df = df\n",
    "        \n",
    "    def expand_path(self, name):\n",
    "        return self.dir_path + name + \".png\"\n",
    "        \n",
    "    def __getitem__(self, idx):\n",
    "        _class, name = tuple(self.df.iloc[idx])\n",
    "        \n",
    "        path = self.expand_path(name)\n",
    "        img_arr = np.array(Image.open(path))\n",
    "        \n",
    "        return img_arr, _class\n",
    "    \n",
    "    def __len__(self):\n",
    "        return len(self.df)"
   ]
  },
  {
   "cell_type": "code",
   "execution_count": 9,
   "id": "ac628224-e6ee-474d-9196-e3ee1453bfc8",
   "metadata": {},
   "outputs": [],
   "source": [
    "train_set = PlaneSet(images_path, data)"
   ]
  },
  {
   "cell_type": "code",
   "execution_count": 10,
   "id": "91a64cca-33ee-40ca-b013-25b96785c0ca",
   "metadata": {},
   "outputs": [
    {
     "name": "stdout",
     "output_type": "stream",
     "text": [
      "image shape: (20, 20, 3)\t|\t image class: 0\n"
     ]
    }
   ],
   "source": [
    "img, _class = train_set[0]\n",
    "\n",
    "print(f\"image shape: {img.shape}\\t|\\t image class: {_class}\")"
   ]
  },
  {
   "cell_type": "markdown",
   "id": "b8724915-57b9-44a3-9f17-643d4e7fd627",
   "metadata": {},
   "source": [
    "#### Visualize the planes\n",
    "---"
   ]
  },
  {
   "cell_type": "code",
   "execution_count": 40,
   "id": "29bcb026-3423-4def-9831-9a3340a97674",
   "metadata": {},
   "outputs": [],
   "source": [
    "planes = [train_set[i] for i in range(100)]\n",
    "arg = planes[30:39]"
   ]
  },
  {
   "cell_type": "code",
   "execution_count": 41,
   "id": "24c251bd-1740-43e3-9e6b-f5039491b7d2",
   "metadata": {},
   "outputs": [
    {
     "data": {
      "image/png": "[encoded data removed]",
      "text/plain": [
       "<Figure size 432x432 with 9 Axes>"
      ]
     },
     "metadata": {},
     "output_type": "display_data"
    }
   ],
   "source": [
    "def plot_grid(arg):\n",
    "    plt.style.use(\"dark_background\")\n",
    "    fig, axes = plt.subplots(nrows=3, ncols=3, figsize=(6, 6))\n",
    "    fig.subplots_adjust(hspace=0.3, wspace=0.3)\n",
    "    font = {\n",
    "        \"family\": \"serif\",\n",
    "        \"color\":  \"#73081A\",\n",
    "        \"weight\": \"bold\",\n",
    "        \"size\": 14,\n",
    "    }\n",
    "    plt.rcParams['axes.titley'] = 1.3    # y is in axes-relative coordinates.\n",
    "    \n",
    "    for j in range(3):\n",
    "        for i,ax in enumerate(axes[j]):\n",
    "            ax.imshow(planes[i+(j*3)][0], interpolation='nearest')\n",
    "            ax.set_title(planes[i+(j*3)][1], fontdict=font, loc='left', pad=-50)\n",
    "\n",
    "    fig.tight_layout()\n",
    "    plt.show()\n",
    "    \n",
    "plot_grid(planes)"
   ]
  },
  {
   "cell_type": "markdown",
   "id": "4a437ffb-b5f7-4fc6-975b-6eeaaf8d7421",
   "metadata": {},
   "source": [
    "#### Dataloader\n",
    "---"
   ]
  },
  {
   "cell_type": "code",
   "execution_count": 49,
   "id": "4e34ba2c-6cc2-4632-afe7-0295fb81e2f9",
   "metadata": {},
   "outputs": [],
   "source": [
    "from torch.utils.data import DataLoader\n",
    "\n",
    "train = DataLoader(train_set, shuffle=True, batch_size=1)"
   ]
  },
  {
   "cell_type": "code",
   "execution_count": 52,
   "id": "f271f3dc-622e-4cb7-9d97-3a677fd7e416",
   "metadata": {},
   "outputs": [
    {
     "name": "stdout",
     "output_type": "stream",
     "text": [
      "torch.Size([1, 20, 20, 3]) tensor([0])\n",
      "torch.Size([1, 20, 20, 3]) tensor([0])\n",
      "torch.Size([1, 20, 20, 3]) tensor([1])\n",
      "torch.Size([1, 20, 20, 3]) tensor([0])\n",
      "torch.Size([1, 20, 20, 3]) tensor([0])\n",
      "torch.Size([1, 20, 20, 3]) tensor([0])\n"
     ]
    }
   ],
   "source": [
    "for ind, (x, y) in enumerate(train):\n",
    "    print(x.shape, y)\n",
    "    \n",
    "    if ind % 5 == 0 and ind != 0:\n",
    "        break"
   ]
  },
  {
   "cell_type": "code",
   "execution_count": null,
   "id": "f810d6a8-999f-4bd2-92c9-513cba6be321",
   "metadata": {},
   "outputs": [],
   "source": []
  }
 ],
 "metadata": {
  "kernelspec": {
   "display_name": "Python 3",
   "language": "python",
   "name": "python3"
  },
  "language_info": {
   "codemirror_mode": {
    "name": "ipython",
    "version": 3
   },
   "file_extension": ".py",
   "mimetype": "text/x-python",
   "name": "python",
   "nbconvert_exporter": "python",
   "pygments_lexer": "ipython3",
   "version": "3.9.5"
  }
 },
 "nbformat": 4,
 "nbformat_minor": 5
}
